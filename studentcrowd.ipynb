{
 "cells": [
  {
   "cell_type": "markdown",
   "id": "492bf9e8",
   "metadata": {},
   "source": [
    "# DATA CLEANING"
   ]
  },
  {
   "cell_type": "code",
   "execution_count": 1,
   "id": "9df85dec",
   "metadata": {},
   "outputs": [],
   "source": [
    "import pandas as pd\n",
    "import numpy as np"
   ]
  },
  {
   "cell_type": "code",
   "execution_count": 2,
   "id": "e61d40bb",
   "metadata": {},
   "outputs": [],
   "source": [
    "df = pd.read_csv(\"all_university_reviews.csv\")"
   ]
  },
  {
   "cell_type": "code",
   "execution_count": 3,
   "id": "46cc451c",
   "metadata": {
    "scrolled": true
   },
   "outputs": [
    {
     "data": {
      "text/html": [
       "<div>\n",
       "<style scoped>\n",
       "    .dataframe tbody tr th:only-of-type {\n",
       "        vertical-align: middle;\n",
       "    }\n",
       "\n",
       "    .dataframe tbody tr th {\n",
       "        vertical-align: top;\n",
       "    }\n",
       "\n",
       "    .dataframe thead th {\n",
       "        text-align: right;\n",
       "    }\n",
       "</style>\n",
       "<table border=\"1\" class=\"dataframe\">\n",
       "  <thead>\n",
       "    <tr style=\"text-align: right;\">\n",
       "      <th></th>\n",
       "      <th>University</th>\n",
       "      <th>Rating</th>\n",
       "      <th>Username</th>\n",
       "      <th>Review</th>\n",
       "      <th>Date</th>\n",
       "    </tr>\n",
       "  </thead>\n",
       "  <tbody>\n",
       "    <tr>\n",
       "      <th>0</th>\n",
       "      <td>University L1000000 S1008528 University_Of_Abe...</td>\n",
       "      <td>3.8</td>\n",
       "      <td>member10119396</td>\n",
       "      <td>Aberdeen is one of the best universities in th...</td>\n",
       "      <td>13th October 24</td>\n",
       "    </tr>\n",
       "    <tr>\n",
       "      <th>1</th>\n",
       "      <td>University L1000000 S1008528 University_Of_Abe...</td>\n",
       "      <td>4.2</td>\n",
       "      <td>member6119373</td>\n",
       "      <td>I like the University or Aberdeen, it's a nice...</td>\n",
       "      <td>13th October 24</td>\n",
       "    </tr>\n",
       "    <tr>\n",
       "      <th>2</th>\n",
       "      <td>University L1000000 S1008528 University_Of_Abe...</td>\n",
       "      <td>3.6</td>\n",
       "      <td>member7119310</td>\n",
       "      <td>It’s perfect one year experience but might be ...</td>\n",
       "      <td>13th October 24</td>\n",
       "    </tr>\n",
       "    <tr>\n",
       "      <th>3</th>\n",
       "      <td>University L1000000 S1008528 University_Of_Abe...</td>\n",
       "      <td>5.0</td>\n",
       "      <td>member8119100</td>\n",
       "      <td>amazing place love everything here</td>\n",
       "      <td>11th October 24</td>\n",
       "    </tr>\n",
       "    <tr>\n",
       "      <th>4</th>\n",
       "      <td>University L1000000 S1008528 University_Of_Abe...</td>\n",
       "      <td>5.0</td>\n",
       "      <td>member7119099</td>\n",
       "      <td>The apartment is better than expected! The loc...</td>\n",
       "      <td>11th October 24</td>\n",
       "    </tr>\n",
       "  </tbody>\n",
       "</table>\n",
       "</div>"
      ],
      "text/plain": [
       "                                          University  Rating        Username  \\\n",
       "0  University L1000000 S1008528 University_Of_Abe...     3.8  member10119396   \n",
       "1  University L1000000 S1008528 University_Of_Abe...     4.2   member6119373   \n",
       "2  University L1000000 S1008528 University_Of_Abe...     3.6   member7119310   \n",
       "3  University L1000000 S1008528 University_Of_Abe...     5.0   member8119100   \n",
       "4  University L1000000 S1008528 University_Of_Abe...     5.0   member7119099   \n",
       "\n",
       "                                              Review             Date  \n",
       "0  Aberdeen is one of the best universities in th...  13th October 24  \n",
       "1  I like the University or Aberdeen, it's a nice...  13th October 24  \n",
       "2  It’s perfect one year experience but might be ...  13th October 24  \n",
       "3                 amazing place love everything here  11th October 24  \n",
       "4  The apartment is better than expected! The loc...  11th October 24  "
      ]
     },
     "execution_count": 3,
     "metadata": {},
     "output_type": "execute_result"
    }
   ],
   "source": [
    "df.head()"
   ]
  },
  {
   "cell_type": "code",
   "execution_count": 4,
   "id": "8a93c7fa",
   "metadata": {},
   "outputs": [
    {
     "data": {
      "text/plain": [
       "Index(['University', 'Rating', 'Username', 'Review', 'Date'], dtype='object')"
      ]
     },
     "execution_count": 4,
     "metadata": {},
     "output_type": "execute_result"
    }
   ],
   "source": [
    "df.columns"
   ]
  },
  {
   "cell_type": "code",
   "execution_count": 5,
   "id": "50c40fa5",
   "metadata": {},
   "outputs": [],
   "source": [
    "df[['Discard1', 'Discard2', 'Discard3', 'University_Name', 'City']] = df['University'].str.split(' ', n=4, expand=True)\n",
    "df['University_Name'] = df['University_Name'].str.replace('_', ' ')\n",
    "df = df.drop(columns=['Discard1', 'Discard2', 'Discard3', 'University'])\n",
    "df = df.rename(columns={'University_Name': 'University'})\n",
    "df['Username'] = df['Username'].str.replace('member', '', regex=False)\n",
    "df['Date'] = df['Date'].str.replace(r'(\\d+)(st|nd|rd|th)', r'\\1', regex=True)\n",
    "df['Date'] = pd.to_datetime(df['Date'], format='%d %B %y')"
   ]
  },
  {
   "cell_type": "code",
   "execution_count": 6,
   "id": "8c0d7932",
   "metadata": {
    "scrolled": true
   },
   "outputs": [
    {
     "name": "stdout",
     "output_type": "stream",
     "text": [
      "<class 'pandas.core.frame.DataFrame'>\n",
      "RangeIndex: 38762 entries, 0 to 38761\n",
      "Data columns (total 6 columns):\n",
      " #   Column      Non-Null Count  Dtype         \n",
      "---  ------      --------------  -----         \n",
      " 0   Rating      38762 non-null  float64       \n",
      " 1   Username    38762 non-null  object        \n",
      " 2   Review      38762 non-null  object        \n",
      " 3   Date        38762 non-null  datetime64[ns]\n",
      " 4   University  38762 non-null  object        \n",
      " 5   City        38762 non-null  object        \n",
      "dtypes: datetime64[ns](1), float64(1), object(4)\n",
      "memory usage: 1.8+ MB\n"
     ]
    }
   ],
   "source": [
    "df.info()"
   ]
  },
  {
   "cell_type": "code",
   "execution_count": 7,
   "id": "3a784d24",
   "metadata": {
    "scrolled": true
   },
   "outputs": [
    {
     "data": {
      "text/plain": [
       "Rating\n",
       "5.0    12530\n",
       "4.0     3242\n",
       "4.6     3130\n",
       "4.4     3128\n",
       "4.2     3067\n",
       "4.8     2715\n",
       "3.8     2150\n",
       "3.6     1631\n",
       "3.4     1441\n",
       "3.2     1006\n",
       "3.0     1003\n",
       "1.0      709\n",
       "2.8      582\n",
       "2.6      461\n",
       "2.4      347\n",
       "2.2      333\n",
       "2.0      291\n",
       "1.8      261\n",
       "1.6      191\n",
       "1.4      179\n",
       "1.2      122\n",
       "4.7       62\n",
       "4.3       41\n",
       "3.7       32\n",
       "4.5       30\n",
       "3.5       25\n",
       "3.3       20\n",
       "2.7       11\n",
       "2.5        9\n",
       "1.5        5\n",
       "2.3        4\n",
       "1.3        2\n",
       "1.7        2\n",
       "Name: count, dtype: int64"
      ]
     },
     "execution_count": 7,
     "metadata": {},
     "output_type": "execute_result"
    }
   ],
   "source": [
    "df['Rating'].value_counts()"
   ]
  },
  {
   "cell_type": "code",
   "execution_count": 10,
   "id": "838354ea",
   "metadata": {},
   "outputs": [
    {
     "data": {
      "text/html": [
       "<div>\n",
       "<style scoped>\n",
       "    .dataframe tbody tr th:only-of-type {\n",
       "        vertical-align: middle;\n",
       "    }\n",
       "\n",
       "    .dataframe tbody tr th {\n",
       "        vertical-align: top;\n",
       "    }\n",
       "\n",
       "    .dataframe thead th {\n",
       "        text-align: right;\n",
       "    }\n",
       "</style>\n",
       "<table border=\"1\" class=\"dataframe\">\n",
       "  <thead>\n",
       "    <tr style=\"text-align: right;\">\n",
       "      <th></th>\n",
       "      <th>Rating</th>\n",
       "      <th>Username</th>\n",
       "      <th>Review</th>\n",
       "      <th>Date</th>\n",
       "      <th>University</th>\n",
       "      <th>City</th>\n",
       "    </tr>\n",
       "  </thead>\n",
       "  <tbody>\n",
       "    <tr>\n",
       "      <th>0</th>\n",
       "      <td>3.8</td>\n",
       "      <td>10119396</td>\n",
       "      <td>Aberdeen is one of the best universities in th...</td>\n",
       "      <td>2024-10-13</td>\n",
       "      <td>University Of Aberdeen</td>\n",
       "      <td>Aberdeen</td>\n",
       "    </tr>\n",
       "    <tr>\n",
       "      <th>1</th>\n",
       "      <td>4.2</td>\n",
       "      <td>6119373</td>\n",
       "      <td>I like the University or Aberdeen, it's a nice...</td>\n",
       "      <td>2024-10-13</td>\n",
       "      <td>University Of Aberdeen</td>\n",
       "      <td>Aberdeen</td>\n",
       "    </tr>\n",
       "    <tr>\n",
       "      <th>2</th>\n",
       "      <td>3.6</td>\n",
       "      <td>7119310</td>\n",
       "      <td>It’s perfect one year experience but might be ...</td>\n",
       "      <td>2024-10-13</td>\n",
       "      <td>University Of Aberdeen</td>\n",
       "      <td>Aberdeen</td>\n",
       "    </tr>\n",
       "    <tr>\n",
       "      <th>3</th>\n",
       "      <td>5.0</td>\n",
       "      <td>8119100</td>\n",
       "      <td>amazing place love everything here</td>\n",
       "      <td>2024-10-11</td>\n",
       "      <td>University Of Aberdeen</td>\n",
       "      <td>Aberdeen</td>\n",
       "    </tr>\n",
       "    <tr>\n",
       "      <th>4</th>\n",
       "      <td>5.0</td>\n",
       "      <td>7119099</td>\n",
       "      <td>The apartment is better than expected! The loc...</td>\n",
       "      <td>2024-10-11</td>\n",
       "      <td>University Of Aberdeen</td>\n",
       "      <td>Aberdeen</td>\n",
       "    </tr>\n",
       "    <tr>\n",
       "      <th>...</th>\n",
       "      <td>...</td>\n",
       "      <td>...</td>\n",
       "      <td>...</td>\n",
       "      <td>...</td>\n",
       "      <td>...</td>\n",
       "      <td>...</td>\n",
       "    </tr>\n",
       "    <tr>\n",
       "      <th>38757</th>\n",
       "      <td>3.5</td>\n",
       "      <td>108705</td>\n",
       "      <td>Not the best university... But probably not th...</td>\n",
       "      <td>2015-04-30</td>\n",
       "      <td>York St John University</td>\n",
       "      <td>York</td>\n",
       "    </tr>\n",
       "    <tr>\n",
       "      <th>38758</th>\n",
       "      <td>3.5</td>\n",
       "      <td>68597</td>\n",
       "      <td>An amazing, welcoming and friendly university!...</td>\n",
       "      <td>2015-04-30</td>\n",
       "      <td>York St John University</td>\n",
       "      <td>York</td>\n",
       "    </tr>\n",
       "    <tr>\n",
       "      <th>38759</th>\n",
       "      <td>4.0</td>\n",
       "      <td>128579</td>\n",
       "      <td>su is too small and the gym is rubbish</td>\n",
       "      <td>2015-04-30</td>\n",
       "      <td>York St John University</td>\n",
       "      <td>York</td>\n",
       "    </tr>\n",
       "    <tr>\n",
       "      <th>38760</th>\n",
       "      <td>4.2</td>\n",
       "      <td>128564</td>\n",
       "      <td>Very healthy student spirit as it's a small un...</td>\n",
       "      <td>2015-04-30</td>\n",
       "      <td>York St John University</td>\n",
       "      <td>York</td>\n",
       "    </tr>\n",
       "    <tr>\n",
       "      <th>38761</th>\n",
       "      <td>3.5</td>\n",
       "      <td>65580</td>\n",
       "      <td>Good facilities, and wifi around campus.\\nMost...</td>\n",
       "      <td>2015-03-27</td>\n",
       "      <td>York St John University</td>\n",
       "      <td>York</td>\n",
       "    </tr>\n",
       "  </tbody>\n",
       "</table>\n",
       "<p>38762 rows × 6 columns</p>\n",
       "</div>"
      ],
      "text/plain": [
       "       Rating  Username                                             Review  \\\n",
       "0         3.8  10119396  Aberdeen is one of the best universities in th...   \n",
       "1         4.2   6119373  I like the University or Aberdeen, it's a nice...   \n",
       "2         3.6   7119310  It’s perfect one year experience but might be ...   \n",
       "3         5.0   8119100                 amazing place love everything here   \n",
       "4         5.0   7119099  The apartment is better than expected! The loc...   \n",
       "...       ...       ...                                                ...   \n",
       "38757     3.5    108705  Not the best university... But probably not th...   \n",
       "38758     3.5     68597  An amazing, welcoming and friendly university!...   \n",
       "38759     4.0    128579             su is too small and the gym is rubbish   \n",
       "38760     4.2    128564  Very healthy student spirit as it's a small un...   \n",
       "38761     3.5     65580  Good facilities, and wifi around campus.\\nMost...   \n",
       "\n",
       "            Date               University      City  \n",
       "0     2024-10-13   University Of Aberdeen  Aberdeen  \n",
       "1     2024-10-13   University Of Aberdeen  Aberdeen  \n",
       "2     2024-10-13   University Of Aberdeen  Aberdeen  \n",
       "3     2024-10-11   University Of Aberdeen  Aberdeen  \n",
       "4     2024-10-11   University Of Aberdeen  Aberdeen  \n",
       "...          ...                      ...       ...  \n",
       "38757 2015-04-30  York St John University      York  \n",
       "38758 2015-04-30  York St John University      York  \n",
       "38759 2015-04-30  York St John University      York  \n",
       "38760 2015-04-30  York St John University      York  \n",
       "38761 2015-03-27  York St John University      York  \n",
       "\n",
       "[38762 rows x 6 columns]"
      ]
     },
     "execution_count": 10,
     "metadata": {},
     "output_type": "execute_result"
    }
   ],
   "source": [
    "df"
   ]
  },
  {
   "cell_type": "code",
   "execution_count": 9,
   "id": "10fd9280",
   "metadata": {},
   "outputs": [],
   "source": [
    "df.to_csv(\"sample1.csv\")"
   ]
  }
 ],
 "metadata": {
  "kernelspec": {
   "display_name": "Python 3 (ipykernel)",
   "language": "python",
   "name": "python3"
  },
  "language_info": {
   "codemirror_mode": {
    "name": "ipython",
    "version": 3
   },
   "file_extension": ".py",
   "mimetype": "text/x-python",
   "name": "python",
   "nbconvert_exporter": "python",
   "pygments_lexer": "ipython3",
   "version": "3.9.13"
  }
 },
 "nbformat": 4,
 "nbformat_minor": 5
}
