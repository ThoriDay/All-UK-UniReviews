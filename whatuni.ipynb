{
 "cells": [
  {
   "cell_type": "markdown",
   "id": "580dd1eb",
   "metadata": {},
   "source": [
    "# DATA CLEANING"
   ]
  },
  {
   "cell_type": "code",
   "execution_count": 1,
   "id": "d6d06866",
   "metadata": {},
   "outputs": [],
   "source": [
    "import pandas as pd\n",
    "import numpy as np"
   ]
  },
  {
   "cell_type": "code",
   "execution_count": 2,
   "id": "daae060b",
   "metadata": {},
   "outputs": [],
   "source": [
    "df = pd.read_csv(\"whatuni_reviews.csv\")"
   ]
  },
  {
   "cell_type": "code",
   "execution_count": 3,
   "id": "1eaa946e",
   "metadata": {
    "scrolled": false
   },
   "outputs": [
    {
     "data": {
      "text/html": [
       "<div>\n",
       "<style scoped>\n",
       "    .dataframe tbody tr th:only-of-type {\n",
       "        vertical-align: middle;\n",
       "    }\n",
       "\n",
       "    .dataframe tbody tr th {\n",
       "        vertical-align: top;\n",
       "    }\n",
       "\n",
       "    .dataframe thead th {\n",
       "        text-align: right;\n",
       "    }\n",
       "</style>\n",
       "<table border=\"1\" class=\"dataframe\">\n",
       "  <thead>\n",
       "    <tr style=\"text-align: right;\">\n",
       "      <th></th>\n",
       "      <th>University</th>\n",
       "      <th>Course Name</th>\n",
       "      <th>University Rating</th>\n",
       "      <th>Review</th>\n",
       "      <th>Date</th>\n",
       "    </tr>\n",
       "  </thead>\n",
       "  <tbody>\n",
       "    <tr>\n",
       "      <th>0</th>\n",
       "      <td>University of Aberdeen</td>\n",
       "      <td>Psychology MA (Hons)</td>\n",
       "      <td>4.0</td>\n",
       "      <td>The university campus does offer a vast range ...</td>\n",
       "      <td>16 October 2024</td>\n",
       "    </tr>\n",
       "    <tr>\n",
       "      <th>1</th>\n",
       "      <td>The University of Edinburgh</td>\n",
       "      <td>Archaeology and Social Anthropology MA (Hons)</td>\n",
       "      <td>4.0</td>\n",
       "      <td>Amazing funding and facilities for my course b...</td>\n",
       "      <td>15 October 2024</td>\n",
       "    </tr>\n",
       "    <tr>\n",
       "      <th>2</th>\n",
       "      <td>Birmingham Newman University</td>\n",
       "      <td>Primary Education (3-11) with QTS BA (Hons)</td>\n",
       "      <td>5.0</td>\n",
       "      <td>Newman has phenomenal lecturers who have at le...</td>\n",
       "      <td>10 October 2024</td>\n",
       "    </tr>\n",
       "    <tr>\n",
       "      <th>3</th>\n",
       "      <td>University of Exeter</td>\n",
       "      <td>MSc Advanced Clinical Practice</td>\n",
       "      <td>5.0</td>\n",
       "      <td>Nice location and environment, with supportive...</td>\n",
       "      <td>10 October 2024</td>\n",
       "    </tr>\n",
       "    <tr>\n",
       "      <th>4</th>\n",
       "      <td>University of Exeter</td>\n",
       "      <td>Computer Science and Mathematics BSc (Hons)</td>\n",
       "      <td>5.0</td>\n",
       "      <td>There's so many activities and oppurtunities a...</td>\n",
       "      <td>10 October 2024</td>\n",
       "    </tr>\n",
       "    <tr>\n",
       "      <th>...</th>\n",
       "      <td>...</td>\n",
       "      <td>...</td>\n",
       "      <td>...</td>\n",
       "      <td>...</td>\n",
       "      <td>...</td>\n",
       "    </tr>\n",
       "    <tr>\n",
       "      <th>181976</th>\n",
       "      <td>Queen Margaret University, Edinburgh</td>\n",
       "      <td>NaN</td>\n",
       "      <td>2.0</td>\n",
       "      <td>Someone, somewhere, someday said \"Here's a fie...</td>\n",
       "      <td>08 September 2013</td>\n",
       "    </tr>\n",
       "    <tr>\n",
       "      <th>181977</th>\n",
       "      <td>University of Winchester</td>\n",
       "      <td>NaN</td>\n",
       "      <td>4.0</td>\n",
       "      <td>My Course (Politics) was fantastic, I had such...</td>\n",
       "      <td>28 May 2013</td>\n",
       "    </tr>\n",
       "    <tr>\n",
       "      <th>181978</th>\n",
       "      <td>Norwich University of the Arts</td>\n",
       "      <td>Games Art and Design BA (Hons)</td>\n",
       "      <td>5.0</td>\n",
       "      <td>Great!</td>\n",
       "      <td>01 March 2011</td>\n",
       "    </tr>\n",
       "    <tr>\n",
       "      <th>181979</th>\n",
       "      <td>University of Warwick</td>\n",
       "      <td>NaN</td>\n",
       "      <td>5.0</td>\n",
       "      <td>Warwick allowed a great balance between qualit...</td>\n",
       "      <td>20 March 2007</td>\n",
       "    </tr>\n",
       "    <tr>\n",
       "      <th>181980</th>\n",
       "      <td>NaN</td>\n",
       "      <td>NaN</td>\n",
       "      <td>NaN</td>\n",
       "      <td>NaN</td>\n",
       "      <td>NaN</td>\n",
       "    </tr>\n",
       "  </tbody>\n",
       "</table>\n",
       "<p>181981 rows × 5 columns</p>\n",
       "</div>"
      ],
      "text/plain": [
       "                                  University  \\\n",
       "0                     University of Aberdeen   \n",
       "1                The University of Edinburgh   \n",
       "2               Birmingham Newman University   \n",
       "3                       University of Exeter   \n",
       "4                       University of Exeter   \n",
       "...                                      ...   \n",
       "181976  Queen Margaret University, Edinburgh   \n",
       "181977              University of Winchester   \n",
       "181978        Norwich University of the Arts   \n",
       "181979                 University of Warwick   \n",
       "181980                                   NaN   \n",
       "\n",
       "                                          Course Name  University Rating  \\\n",
       "0                                Psychology MA (Hons)                4.0   \n",
       "1       Archaeology and Social Anthropology MA (Hons)                4.0   \n",
       "2         Primary Education (3-11) with QTS BA (Hons)                5.0   \n",
       "3                      MSc Advanced Clinical Practice                5.0   \n",
       "4         Computer Science and Mathematics BSc (Hons)                5.0   \n",
       "...                                               ...                ...   \n",
       "181976                                            NaN                2.0   \n",
       "181977                                            NaN                4.0   \n",
       "181978                 Games Art and Design BA (Hons)                5.0   \n",
       "181979                                            NaN                5.0   \n",
       "181980                                            NaN                NaN   \n",
       "\n",
       "                                                   Review               Date  \n",
       "0       The university campus does offer a vast range ...    16 October 2024  \n",
       "1       Amazing funding and facilities for my course b...    15 October 2024  \n",
       "2       Newman has phenomenal lecturers who have at le...    10 October 2024  \n",
       "3       Nice location and environment, with supportive...    10 October 2024  \n",
       "4       There's so many activities and oppurtunities a...    10 October 2024  \n",
       "...                                                   ...                ...  \n",
       "181976  Someone, somewhere, someday said \"Here's a fie...  08 September 2013  \n",
       "181977  My Course (Politics) was fantastic, I had such...        28 May 2013  \n",
       "181978                                             Great!      01 March 2011  \n",
       "181979  Warwick allowed a great balance between qualit...      20 March 2007  \n",
       "181980                                                NaN                NaN  \n",
       "\n",
       "[181981 rows x 5 columns]"
      ]
     },
     "execution_count": 3,
     "metadata": {},
     "output_type": "execute_result"
    }
   ],
   "source": [
    "df"
   ]
  },
  {
   "cell_type": "code",
   "execution_count": 4,
   "id": "399bcd62",
   "metadata": {},
   "outputs": [],
   "source": [
    "df = df.dropna(how=\"all\")\n",
    "df = df.reset_index(drop=\"True\")"
   ]
  },
  {
   "cell_type": "code",
   "execution_count": 5,
   "id": "1e20ec91",
   "metadata": {
    "scrolled": false
   },
   "outputs": [
    {
     "data": {
      "text/plain": [
       "University               0\n",
       "Course Name          44885\n",
       "University Rating        0\n",
       "Review               15422\n",
       "Date                     0\n",
       "dtype: int64"
      ]
     },
     "execution_count": 5,
     "metadata": {},
     "output_type": "execute_result"
    }
   ],
   "source": [
    "df.isnull().sum()"
   ]
  },
  {
   "cell_type": "code",
   "execution_count": 6,
   "id": "511fb2da",
   "metadata": {
    "scrolled": true
   },
   "outputs": [
    {
     "name": "stdout",
     "output_type": "stream",
     "text": [
      "<class 'pandas.core.frame.DataFrame'>\n",
      "RangeIndex: 165437 entries, 0 to 165436\n",
      "Data columns (total 5 columns):\n",
      " #   Column             Non-Null Count   Dtype  \n",
      "---  ------             --------------   -----  \n",
      " 0   University         165437 non-null  object \n",
      " 1   Course Name        120552 non-null  object \n",
      " 2   University Rating  165437 non-null  float64\n",
      " 3   Review             150015 non-null  object \n",
      " 4   Date               165437 non-null  object \n",
      "dtypes: float64(1), object(4)\n",
      "memory usage: 6.3+ MB\n"
     ]
    }
   ],
   "source": [
    "df.info()"
   ]
  },
  {
   "cell_type": "code",
   "execution_count": 7,
   "id": "2df99783",
   "metadata": {},
   "outputs": [],
   "source": [
    "df = df.rename(columns={'University Rating' : 'Rating'})\n",
    "df['Review'] = df['Review'].fillna('undefined')\n",
    "df['Course Name'] = df['Course Name'].fillna('undefined')\n",
    "df['Date'] = pd.to_datetime(df['Date'], format='%d %B %Y')"
   ]
  },
  {
   "cell_type": "code",
   "execution_count": 27,
   "id": "cb3d8a64",
   "metadata": {},
   "outputs": [],
   "source": [
    "df.to_csv(\"sample2.csv\")"
   ]
  }
 ],
 "metadata": {
  "kernelspec": {
   "display_name": "Python 3 (ipykernel)",
   "language": "python",
   "name": "python3"
  },
  "language_info": {
   "codemirror_mode": {
    "name": "ipython",
    "version": 3
   },
   "file_extension": ".py",
   "mimetype": "text/x-python",
   "name": "python",
   "nbconvert_exporter": "python",
   "pygments_lexer": "ipython3",
   "version": "3.9.13"
  }
 },
 "nbformat": 4,
 "nbformat_minor": 5
}
